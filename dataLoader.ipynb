{
 "cells": [
  {
   "cell_type": "code",
   "execution_count": 1,
   "metadata": {},
   "outputs": [
    {
     "ename": "ModuleNotFoundError",
     "evalue": "No module named 'torch'",
     "output_type": "error",
     "traceback": [
      "\u001b[0;31m---------------------------------------------------------------------------\u001b[0m",
      "\u001b[0;31mModuleNotFoundError\u001b[0m                       Traceback (most recent call last)",
      "\u001b[0;32m<ipython-input-1-5d7844d1defc>\u001b[0m in \u001b[0;36m<module>\u001b[0;34m\u001b[0m\n\u001b[1;32m      3\u001b[0m \u001b[0;32mimport\u001b[0m \u001b[0mh5py\u001b[0m\u001b[0;34m\u001b[0m\u001b[0;34m\u001b[0m\u001b[0m\n\u001b[1;32m      4\u001b[0m \u001b[0;34m\u001b[0m\u001b[0m\n\u001b[0;32m----> 5\u001b[0;31m \u001b[0;32mimport\u001b[0m \u001b[0mtorch\u001b[0m\u001b[0;34m\u001b[0m\u001b[0;34m\u001b[0m\u001b[0m\n\u001b[0m\u001b[1;32m      6\u001b[0m \u001b[0;32mfrom\u001b[0m \u001b[0mtorch\u001b[0m\u001b[0;34m.\u001b[0m\u001b[0mutils\u001b[0m\u001b[0;34m.\u001b[0m\u001b[0mdata\u001b[0m \u001b[0;32mimport\u001b[0m \u001b[0mDataset\u001b[0m\u001b[0;34m\u001b[0m\u001b[0;34m\u001b[0m\u001b[0m\n\u001b[1;32m      7\u001b[0m \u001b[0;32mfrom\u001b[0m \u001b[0mtorch\u001b[0m\u001b[0;34m.\u001b[0m\u001b[0mutils\u001b[0m\u001b[0;34m.\u001b[0m\u001b[0mdata\u001b[0m \u001b[0;32mimport\u001b[0m \u001b[0mDataLoader\u001b[0m\u001b[0;34m\u001b[0m\u001b[0;34m\u001b[0m\u001b[0m\n",
      "\u001b[0;31mModuleNotFoundError\u001b[0m: No module named 'torch'"
     ]
    }
   ],
   "source": [
    "# to be written\n",
    "# Author : Ravi Ranjan\n",
    "# IIT Bombay 2018-2020\n",
    "\n",
    "import os\n",
    "import numpy as np\n",
    "import h5py\n",
    "\n",
    "# import torch\n",
    "from torch.utils.data import Dataset\n",
    "from torch.utils.data import DataLoader"
   ]
  },
  {
   "cell_type": "code",
   "execution_count": null,
   "metadata": {},
   "outputs": [],
   "source": [
    "class Data_IR(Dataset) : \n",
    "    def __init__(self,args,image_graphs_path,catalog_graph_path,inverted_index_path,image_features_file,split) : \n",
    "\n",
    "#         self.args=args\n",
    "\n",
    "#         # loading train and val preprocessed data\n",
    "#         image_graphs=np.load(image_graphs_path,allow_pickle=True).item()\n",
    "#         # catalog_graph=np.load(catalog_graph_path,allow_pickle=True).item()\n",
    "#         # inverted_index=np.load(inverted_index_path).item()\n",
    "#         f=h5py.File(image_features_file,'r')\n",
    "\n",
    "#         self.nodes_image_graph=image_graphs['nodes']\n",
    "#         self.edges_image_graph=image_graphs['edges']\n",
    "#         self.tails_image_graph=image_graphs['image_tails']\n",
    "#         self.nodes_image_masks=image_graphs['node_masks']\n",
    "#         self.edges_image_masks=image_graphs['edge_masks']\n",
    "#         self.attribute_image_masks=image_graphs['attribute_masks']\n",
    "\n",
    "#         # self.nodes_catalog_graph=catalog_graph['nodes']\n",
    "#         # self.edges_catalog_graph=catalog_graph['edges']\n",
    "\n",
    "#         self.gold_image_features=f['images_'+split]\n",
    "\n",
    "#         # self.nodes_inverted_index=inverted_index['nodes']\n",
    "#         # self.edges_inverted_index=inverted_index['edges']\n",
    "\n",
    "#     # for getting the length of the dataset\n",
    "#     def __len__(self)  :\n",
    "#         return len(self.nodes_image_graph)\n",
    "\n",
    "#     # to get a datapoint from the datapoint \n",
    "#     def __getitem__(self,idx) : \n",
    "#         if idx>=len(self) : \n",
    "#             raise ValueError('Index %d out of range of dataset length %d' % (idx,len(self)))\n",
    "\n",
    "#         nodes=self.nodes_image_graph[idx]\n",
    "#         edges=self.edges_image_graph[idx]\n",
    "#         tails=self.tails_image_graph[idx]\n",
    "\n",
    "#         nodes_mask=self.nodes_image_masks[idx]\n",
    "#         edges_mask=self.edges_image_masks[idx]\n",
    "#         attributes_mask=self.attribute_image_masks[idx]\n",
    "\n",
    "#         gold_img_feat=self.gold_image_features[idx]\n",
    "#         gold_img_id=idx\n",
    "\n",
    "#         return nodes,edges,tails,nodes_mask,edges_mask,attributes_mask,gold_img_feat,idx\n"
   ]
  }
 ],
 "metadata": {
  "kernelspec": {
   "display_name": "Python 3",
   "language": "python",
   "name": "python3"
  },
  "language_info": {
   "codemirror_mode": {
    "name": "ipython",
    "version": 3
   },
   "file_extension": ".py",
   "mimetype": "text/x-python",
   "name": "python",
   "nbconvert_exporter": "python",
   "pygments_lexer": "ipython3",
   "version": "3.7.3"
  }
 },
 "nbformat": 4,
 "nbformat_minor": 2
}
