{
 "cells": [
  {
   "cell_type": "code",
   "execution_count": 1,
   "metadata": {},
   "outputs": [],
   "source": [
    "# Author : Ravi Ranjan\n",
    "# IIT Bombay 2018-2020\n",
    "\n",
    "import json\n",
    "import numpy as np"
   ]
  },
  {
   "cell_type": "code",
   "execution_count": 2,
   "metadata": {},
   "outputs": [],
   "source": [
    "from itertools import islice\n",
    "def take(n, iterable):\n",
    "    \"Return first n items of the iterable as a list\"\n",
    "    return list(islice(iterable, n))"
   ]
  },
  {
   "cell_type": "code",
   "execution_count": 3,
   "metadata": {},
   "outputs": [],
   "source": [
    "with open('val_sceneGraphs.json') as f:\n",
    "    gqa_vg_train = json.load(f)"
   ]
  },
  {
   "cell_type": "code",
   "execution_count": 4,
   "metadata": {},
   "outputs": [
    {
     "data": {
      "text/plain": [
       "100"
      ]
     },
     "execution_count": 4,
     "metadata": {},
     "output_type": "execute_result"
    }
   ],
   "source": [
    "temp_dict = {}\n",
    "# number of images in the catalog = N\n",
    "N = 100\n",
    "i = 0\n",
    "for idx, record in gqa_vg_train.items():\n",
    "    temp_dict[idx] = record\n",
    "    i += 1\n",
    "    if i == N:\n",
    "        break\n",
    "gqa_vg_train = temp_dict\n",
    "len(gqa_vg_train)"
   ]
  },
  {
   "cell_type": "code",
   "execution_count": 5,
   "metadata": {},
   "outputs": [],
   "source": [
    "# loading all the vocabularies \n",
    "obj2ind=np.load('object_vocab.npy',allow_pickle=True).item()\n",
    "attr2ind=np.load('attr_vocab.npy',allow_pickle=True).item()\n",
    "rel2ind=np.load('relation_vocab.npy',allow_pickle=True).item()\n",
    "redundant=np.load('redundant_obj_dict.npy', allow_pickle=True).item()"
   ]
  },
  {
   "cell_type": "code",
   "execution_count": 6,
   "metadata": {},
   "outputs": [
    {
     "data": {
      "text/plain": [
       "37"
      ]
     },
     "execution_count": 6,
     "metadata": {},
     "output_type": "execute_result"
    }
   ],
   "source": [
    "# checking max. number of objects in a scene graph : \n",
    "maximum = -9999\n",
    "for idx, record in gqa_vg_train.items():\n",
    "    maximum = max(maximum, len(record['objects']))\n",
    "maximum"
   ]
  },
  {
   "cell_type": "code",
   "execution_count": 7,
   "metadata": {},
   "outputs": [
    {
     "data": {
      "text/plain": [
       "167"
      ]
     },
     "execution_count": 7,
     "metadata": {},
     "output_type": "execute_result"
    }
   ],
   "source": [
    "max_num_objects_in_sg = 40\n",
    "pad_attribute=attr2ind['<pad>']\n",
    "pad_attribute"
   ]
  },
  {
   "cell_type": "code",
   "execution_count": 8,
   "metadata": {},
   "outputs": [
    {
     "data": {
      "text/plain": [
       "17"
      ]
     },
     "execution_count": 8,
     "metadata": {},
     "output_type": "execute_result"
    }
   ],
   "source": [
    "# checking max. number of objects in a scene graph : \n",
    "maximum = -9999\n",
    "for idx, record in gqa_vg_train.items():\n",
    "    attr_set = set()\n",
    "    for obj_id, obj_record in record['objects'].items():\n",
    "        for attribute in obj_record['attributes']:\n",
    "            attr_set.add(attribute)\n",
    "    maximum = max(maximum, len(attr_set))\n",
    "maximum"
   ]
  },
  {
   "cell_type": "code",
   "execution_count": 9,
   "metadata": {},
   "outputs": [],
   "source": [
    "max_num_attrs_in_sg = 20\n"
   ]
  },
  {
   "cell_type": "code",
   "execution_count": 10,
   "metadata": {},
   "outputs": [],
   "source": [
    "# structure needed : \n",
    "#     for each sg\n",
    "#         i need one array of objects. this array needs to have fixed size\n",
    "#         need to pad the remaining places if number of objects < fixed size\n",
    "#         also need object_mask for telling till which place, there are valid objects\n",
    "        \n",
    "#         need to do the same thing for attributes\n",
    "        \n",
    "#         also need to create adj matrix for representing tuples of obj-rel-obj and obj-rel-attr\n",
    "        "
   ]
  },
  {
   "cell_type": "code",
   "execution_count": 11,
   "metadata": {},
   "outputs": [
    {
     "name": "stdout",
     "output_type": "stream",
     "text": [
      "[('2716708', 'nose')]\n"
     ]
    }
   ],
   "source": [
    "n_items = take(1, redundant.items())\n",
    "print(n_items)"
   ]
  },
  {
   "cell_type": "code",
   "execution_count": 24,
   "metadata": {},
   "outputs": [],
   "source": [
    "object_masks = []\n",
    "attr_masks = []\n",
    "image_objects = []\n",
    "image_attrs = []\n",
    "image_obj_obj_edges = []\n",
    "image_obj_attr_edges = []\n",
    "dummy_rel = 'dummy'"
   ]
  },
  {
   "cell_type": "code",
   "execution_count": 32,
   "metadata": {},
   "outputs": [],
   "source": [
    "for idx, sceneGraph in gqa_vg_train.items():\n",
    "    # creation of image_objects list\n",
    "    objects = np.ones(max_num_objects_in_sg)*pad_attribute\n",
    "    index = 0\n",
    "    for obj_id, obj_record in sceneGraph['objects'].items():\n",
    "        objects[index] = obj2ind[redundant[obj_id]]\n",
    "        index += 1\n",
    "    # number of objects per datapoint(query scene graph)\n",
    "#     print(objects)\n",
    "    obj_mask=np.zeros(max_num_objects_in_sg)\n",
    "    obj_mask[:(index)]=1\n",
    "#     print(obj_mask)\n",
    "    object_masks.append(obj_mask)    \n",
    "    # creation of object masks done\n",
    "    image_objects.append(objects)\n",
    "#     ================================================================================\n",
    "    \n",
    "    # creation of image_attr_list\n",
    "    attributes = np.ones(max_num_attrs_in_sg)*pad_attribute\n",
    "    for obj_id, obj_record in sceneGraph['objects'].items():\n",
    "        index = 1\n",
    "        for attr_name in obj_record['attributes']:\n",
    "            attributes[index] = attr2ind[attr_name]\n",
    "            index += 1\n",
    "    # number of attrs per datapoint(query scene graph)\n",
    "#     print(attributes)\n",
    "    attr_mask=np.zeros(max_num_attrs_in_sg)\n",
    "    attr_mask[:(index)]=1\n",
    "#     print(attr_mask)\n",
    "    exit(1)\n",
    "    attr_masks.append(attr_mask)\n",
    "    # creation of attr masks done\n",
    "    image_attrs.append(attributes)\n",
    "#     ===================================================================================\n",
    "\n",
    "    # creation of edges \n",
    "    \n",
    "    # creation of obj-rel-obj edges\n",
    "    overall_num_objects = len(obj2ind)\n",
    "    adj_mat_obj_obj = np.zeros((overall_num_objects, overall_num_objects))\n",
    "    for obj_id, obj_record in sceneGraph['objects'].items():\n",
    "        obj1 = obj2ind[obj_record['name']]\n",
    "        for relation in obj_record['relations']:\n",
    "            obj2 = obj2ind[redundant[relation['object']]]\n",
    "            rel = rel2ind[relation['name']]\n",
    "            adj_mat_obj_obj[obj1, obj2] = rel\n",
    "    image_obj_obj_edges.append(adj_mat_obj_obj)\n",
    "#     ===================================================================================\n",
    "\n",
    "    \n",
    "    # creation of obj-rel-attr edges \n",
    "    overall_num_attrs = len(attr2ind)\n",
    "    adj_mat_obj_attr=np.zeros((overall_num_objects,overall_num_attrs))\n",
    "    for obj_id, ob_record in sceneGraph['objects'].items():\n",
    "        for attr_name in obj_record['attributes']:\n",
    "            obj = obj2ind[obj_record['name']]\n",
    "            rel = rel2ind[dummy_rel]\n",
    "            attr = attr2ind[attr_name] \n",
    "            adj_mat_obj_obj[obj, attr] = rel\n",
    "    image_obj_attr_edges.append(adj_mat_obj_attr)"
   ]
  },
  {
   "cell_type": "code",
   "execution_count": 33,
   "metadata": {},
   "outputs": [
    {
     "data": {
      "text/plain": [
       "(422, 422)"
      ]
     },
     "execution_count": 33,
     "metadata": {},
     "output_type": "execute_result"
    }
   ],
   "source": [
    "adj_mat_obj_obj.shape"
   ]
  },
  {
   "cell_type": "code",
   "execution_count": 34,
   "metadata": {},
   "outputs": [
    {
     "data": {
      "text/plain": [
       "(422, 167)"
      ]
     },
     "execution_count": 34,
     "metadata": {},
     "output_type": "execute_result"
    }
   ],
   "source": [
    "adj_mat_obj_attr.shape"
   ]
  },
  {
   "cell_type": "code",
   "execution_count": 35,
   "metadata": {},
   "outputs": [
    {
     "name": "stdout",
     "output_type": "stream",
     "text": [
      "400\n",
      "400\n",
      "400\n",
      "400\n"
     ]
    }
   ],
   "source": [
    "print(len(image_objects))\n",
    "print(len(image_attrs))\n",
    "print(len(image_obj_obj_edges))\n",
    "print(len(image_obj_attr_edges))\n"
   ]
  },
  {
   "cell_type": "code",
   "execution_count": 37,
   "metadata": {},
   "outputs": [],
   "source": [
    "query_scene_graph={'object-nodes' : image_objects, 'attribute-nodes' : image_attrs, \n",
    "                   'obj-obj-edges' : image_obj_obj_edges, 'obj-attr-edges' : image_obj_attr_edges,\n",
    "                   'object-node-masks' : object_masks, 'attr-node-masks' : attr_masks}\n",
    "\n",
    "np.save('query_scene_graph'+'train'+'.npy',query_scene_graph)\n"
   ]
  },
  {
   "cell_type": "code",
   "execution_count": null,
   "metadata": {},
   "outputs": [],
   "source": []
  },
  {
   "cell_type": "code",
   "execution_count": null,
   "metadata": {},
   "outputs": [],
   "source": []
  }
 ],
 "metadata": {
  "kernelspec": {
   "display_name": "Python 3",
   "language": "python",
   "name": "python3"
  },
  "language_info": {
   "codemirror_mode": {
    "name": "ipython",
    "version": 3
   },
   "file_extension": ".py",
   "mimetype": "text/x-python",
   "name": "python",
   "nbconvert_exporter": "python",
   "pygments_lexer": "ipython3",
   "version": "3.7.3"
  }
 },
 "nbformat": 4,
 "nbformat_minor": 2
}
