{
 "cells": [
  {
   "cell_type": "code",
   "execution_count": 2,
   "metadata": {},
   "outputs": [],
   "source": [
    "# to be written\n",
    "# Author : Ravi Ranjan\n",
    "# IIT Bombay 2018-2020\n",
    "\n",
    "import os\n",
    "import numpy as np\n",
    "import h5py\n",
    "\n",
    "# import torch\n",
    "# from torch.utils.data import Dataset\n",
    "# from torch.utils.data import DataLoader"
   ]
  },
  {
   "cell_type": "code",
   "execution_count": null,
   "metadata": {},
   "outputs": [],
   "source": [
    "class DataLoader(Dataset) :\n",
    "    def __init__(self,image_graphs_path,catalog_graph_path,inverted_index_path,embeddings_path,split) :\n",
    "\n",
    "        image_graphs=np.load(image_graphs_path,allow_pickle=True).item()\n",
    "\n",
    "        schema_graph=np.load(catalog_graph_path,allow_pickle=True).item()\n",
    "        inverted_index=np.load(inverted_index_path).item()\n",
    "\n",
    "\n",
    "        self.object_nodes_image_graph=image_graphs['object-nodes']\n",
    "        self.attribute_nodes_image_graph=image_graphs['attribute-nodes']\n",
    "        self.object_object_edges_image_graph=image_graphs['obj-obj-edges']\n",
    "        self.object_attribute_edges_image_graph=image_graphs['obj-attr-edges']\n",
    "        self.object_nodes_image_masks=image_graphs['object-node-masks']\n",
    "        self.attribute_nodes_image_masks=image_graphs['attribute-node-masks']\n",
    "\n",
    "        self.object_nodes_schema_graph=catalog_graph['object_nodes']\n",
    "        self.attribute_nodes_schema_graph=catalog_graph['attribute_nodes']\n",
    "        self.object_object_edges_schema_graph=catalog_graph['object_object_edges']\n",
    "        self.object_attribute_edges_schema_graph=catalog_graph['object_attribute_edges']\n",
    "\n",
    "\n",
    "        self.object_nodes_inverted_index=inverted_index['object_nodes']\n",
    "        self.attribute_nodes_inverted_index=inverted_index['attr_nodes']\n",
    "        self.object_object_edges_inverted_index=inverted_index['object_object_edges']\n",
    "        self.object_attr_edges_inverted_index=inverted_index['object_attr_edges']\n",
    "\n",
    "    # for getting the length of the dataset\n",
    "    def __len__(self)  :\n",
    "        return len(self.object_nodes_image_graph) + len(self.attribute_nodes_image_graph)\n",
    "\n",
    "    # to get a datapoint from the datapoint\n",
    "    def __getitem__(self,idx) :\n",
    "        if idx>=len(self) :\n",
    "            raise ValueError('Index %d out of range of dataset length %d' % (idx,len(self)))\n",
    "\n",
    "        object_nodes=self.object_nodes_image_graph[idx]\n",
    "        attribute_nodes=self.attribute_nodes_image_graph[idx]\n",
    "        object_object_edges=self.object_object_edges_image_graph[idx]\n",
    "        object_attr_edges=self.object_attribute_edges_image_graph[idx]\n",
    "\n",
    "        object_nodes_mask=self.object_nodes_image_masks[idx]\n",
    "        attribute_nodes_mask=self.attribute_nodes_image_masks[idx]\n",
    "\n",
    "        gold_img_id=idx\n",
    "\n",
    "        return object_nodes, attribute_nodes, object_object_edges,\n",
    "            object_attr_edges, object_nodes_mask,attribute_node_mask, idx\n"
   ]
  }
 ],
 "metadata": {
  "kernelspec": {
   "display_name": "Python 3",
   "language": "python",
   "name": "python3"
  },
  "language_info": {
   "codemirror_mode": {
    "name": "ipython",
    "version": 3
   },
   "file_extension": ".py",
   "mimetype": "text/x-python",
   "name": "python",
   "nbconvert_exporter": "python",
   "pygments_lexer": "ipython3",
   "version": "3.7.3"
  }
 },
 "nbformat": 4,
 "nbformat_minor": 2
}
