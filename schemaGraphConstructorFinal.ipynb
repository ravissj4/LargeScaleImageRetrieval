{
 "cells": [
  {
   "cell_type": "code",
   "execution_count": 3,
   "metadata": {},
   "outputs": [],
   "source": [
    "# Author : Ravi Ranjan\n",
    "# IIT Bombay 2018-2020\n",
    "\n",
    "import json\n",
    "import numpy as np"
   ]
  },
  {
   "cell_type": "code",
   "execution_count": 4,
   "metadata": {},
   "outputs": [],
   "source": [
    "from itertools import islice\n",
    "def take(n, iterable):\n",
    "    \"Return first n items of the iterable as a list\"\n",
    "    return list(islice(iterable, n))"
   ]
  },
  {
   "cell_type": "code",
   "execution_count": 5,
   "metadata": {},
   "outputs": [],
   "source": [
    "with open('val_sceneGraphs.json') as f:\n",
    "    gqa_vg_train = json.load(f)"
   ]
  },
  {
   "cell_type": "code",
   "execution_count": 6,
   "metadata": {},
   "outputs": [
    {
     "data": {
      "text/plain": [
       "10696"
      ]
     },
     "execution_count": 6,
     "metadata": {},
     "output_type": "execute_result"
    }
   ],
   "source": [
    "num_images = 0\n",
    "for idx, record in gqa_vg_train.items():\n",
    "    num_images += 1\n",
    "num_images"
   ]
  },
  {
   "cell_type": "code",
   "execution_count": 7,
   "metadata": {},
   "outputs": [
    {
     "data": {
      "text/plain": [
       "100"
      ]
     },
     "execution_count": 7,
     "metadata": {},
     "output_type": "execute_result"
    }
   ],
   "source": [
    "temp_dict = {}\n",
    "# number of images in the catalog = N\n",
    "N = 100\n",
    "i = 0\n",
    "for idx, record in gqa_vg_train.items():\n",
    "    temp_dict[idx] = record\n",
    "    i += 1\n",
    "    if i == N:\n",
    "        break\n",
    "gqa_vg_train = temp_dict\n",
    "len(gqa_vg_train)"
   ]
  },
  {
   "cell_type": "code",
   "execution_count": 8,
   "metadata": {},
   "outputs": [],
   "source": [
    "# object vocab creation :"
   ]
  },
  {
   "cell_type": "code",
   "execution_count": 9,
   "metadata": {},
   "outputs": [],
   "source": [
    "redundant_obj_dict = {}\n",
    "for idx, record in gqa_vg_train.items():\n",
    "    for obj_key, obj in record['objects'].items():\n",
    "        redundant_obj_dict[obj_key] = obj['name']\n"
   ]
  },
  {
   "cell_type": "code",
   "execution_count": 10,
   "metadata": {},
   "outputs": [
    {
     "data": {
      "text/plain": [
       "1580"
      ]
     },
     "execution_count": 10,
     "metadata": {},
     "output_type": "execute_result"
    }
   ],
   "source": [
    "len(redundant_obj_dict)"
   ]
  },
  {
   "cell_type": "code",
   "execution_count": 11,
   "metadata": {},
   "outputs": [
    {
     "name": "stdout",
     "output_type": "stream",
     "text": [
      "[('2716708', 'nose')]\n"
     ]
    }
   ],
   "source": [
    "n_items = take(1, redundant_obj_dict.items())\n",
    "print(n_items)"
   ]
  },
  {
   "cell_type": "code",
   "execution_count": 12,
   "metadata": {},
   "outputs": [
    {
     "data": {
      "text/plain": [
       "422"
      ]
     },
     "execution_count": 12,
     "metadata": {},
     "output_type": "execute_result"
    }
   ],
   "source": [
    "inv_redundant_obj_dict = {v: k for k, v in redundant_obj_dict.items()}\n",
    "len(inv_redundant_obj_dict)"
   ]
  },
  {
   "cell_type": "code",
   "execution_count": 13,
   "metadata": {},
   "outputs": [
    {
     "name": "stdout",
     "output_type": "stream",
     "text": [
      "422\n"
     ]
    }
   ],
   "source": [
    "# of unique objects : \n",
    "print(len(inv_redundant_obj_dict))"
   ]
  },
  {
   "cell_type": "code",
   "execution_count": 14,
   "metadata": {},
   "outputs": [
    {
     "name": "stdout",
     "output_type": "stream",
     "text": [
      "[('nose', '3952616')]\n"
     ]
    }
   ],
   "source": [
    "n_items = take(1, inv_redundant_obj_dict.items())\n",
    "print(n_items)"
   ]
  },
  {
   "cell_type": "code",
   "execution_count": 15,
   "metadata": {},
   "outputs": [],
   "source": [
    "object_vocab = {}\n",
    "index = 0\n",
    "for key in inv_redundant_obj_dict:\n",
    "    object_vocab[key] = index\n",
    "    index += 1"
   ]
  },
  {
   "cell_type": "code",
   "execution_count": 16,
   "metadata": {},
   "outputs": [
    {
     "name": "stdout",
     "output_type": "stream",
     "text": [
      "[('nose', 0)]\n"
     ]
    }
   ],
   "source": [
    "n_items = take(1, object_vocab.items())\n",
    "print(n_items)"
   ]
  },
  {
   "cell_type": "code",
   "execution_count": 17,
   "metadata": {},
   "outputs": [
    {
     "data": {
      "text/plain": [
       "422"
      ]
     },
     "execution_count": 17,
     "metadata": {},
     "output_type": "execute_result"
    }
   ],
   "source": [
    "len(object_vocab)"
   ]
  },
  {
   "cell_type": "code",
   "execution_count": 18,
   "metadata": {},
   "outputs": [],
   "source": [
    "# imageid vocab creation\n",
    "image_vocab = {}\n",
    "index = 0\n",
    "for idx, record in gqa_vg_train.items():\n",
    "    image_vocab[idx] = index\n",
    "    index += 1"
   ]
  },
  {
   "cell_type": "code",
   "execution_count": 19,
   "metadata": {},
   "outputs": [
    {
     "name": "stdout",
     "output_type": "stream",
     "text": [
      "[('2353884', 0)]\n"
     ]
    }
   ],
   "source": [
    "n_items = take(1, image_vocab.items())\n",
    "print(n_items)"
   ]
  },
  {
   "cell_type": "code",
   "execution_count": 20,
   "metadata": {},
   "outputs": [
    {
     "data": {
      "text/plain": [
       "61"
      ]
     },
     "execution_count": 20,
     "metadata": {},
     "output_type": "execute_result"
    }
   ],
   "source": [
    "# creation of relationship vocab\n",
    "relation_vocab = {}\n",
    "index  = 0\n",
    "for idx, record in gqa_vg_train.items():\n",
    "    for obj_key, obj in record['objects'].items():\n",
    "        for relation in obj['relations']:\n",
    "            if relation['name'] not in relation_vocab:\n",
    "                relation_vocab[relation['name']] = index\n",
    "                index += 1\n",
    "len(relation_vocab)  "
   ]
  },
  {
   "cell_type": "code",
   "execution_count": 21,
   "metadata": {},
   "outputs": [
    {
     "name": "stdout",
     "output_type": "stream",
     "text": [
      "61\n",
      "62\n"
     ]
    }
   ],
   "source": [
    "# creating dummy relation for object_attr relationship\n",
    "dummy_rel = 'dummy'\n",
    "print(len(relation_vocab))\n",
    "relation_vocab['dummy'] = len(relation_vocab) + 1\n",
    "print(len(relation_vocab))"
   ]
  },
  {
   "cell_type": "code",
   "execution_count": 22,
   "metadata": {},
   "outputs": [
    {
     "name": "stdout",
     "output_type": "stream",
     "text": [
      "[('of', 0), ('to the right of', 1), ('to the left of', 2), ('wearing', 3), ('reading', 4), ('holding', 5), ('on', 6), ('in', 7), ('under', 8), ('below', 9), ('with', 10), ('on top of', 11), ('above', 12), ('in front of', 13), ('behind', 14), ('by', 15), ('riding', 16), ('playing with', 17), ('parked next to', 18), ('parked in front of', 19), ('near', 20), ('next to', 21), ('mounted on', 22), ('hanging from', 23), ('lying in', 24), ('lying on', 25), ('walking on', 26), ('walking with', 27), ('sitting at', 28), ('using', 29), ('watching', 30), ('inside', 31), ('standing by', 32), ('hanging on', 33), ('filled with', 34), ('full of', 35), ('coming from', 36), ('standing on', 37), ('around', 38), ('touching', 39), ('covered with', 40), ('sitting on', 41), ('walking in', 42), ('stacked on', 43), ('parked along', 44), ('sitting near', 45), ('parked near', 46), ('parked on', 47), ('flying over', 48), ('at', 49), ('covering', 50), ('covered by', 51), ('mounted to', 52), ('throwing', 53), ('playing', 54), ('pulling', 55), ('on the side of', 56), ('pulled by', 57), ('swinging', 58), ('standing against', 59), ('sitting in', 60)]\n"
     ]
    }
   ],
   "source": [
    "n_items = take(61, relation_vocab.items())\n",
    "print(n_items)"
   ]
  },
  {
   "cell_type": "code",
   "execution_count": 23,
   "metadata": {},
   "outputs": [
    {
     "data": {
      "text/plain": [
       "166"
      ]
     },
     "execution_count": 23,
     "metadata": {},
     "output_type": "execute_result"
    }
   ],
   "source": [
    "# attribute vocab creation\n",
    "# creation of inverted attribute vocab\n",
    "attr_vocab = {}\n",
    "index = 0\n",
    "for idx, record in gqa_vg_train.items():\n",
    "    for obj_key, obj in record['objects'].items():\n",
    "        for attr in obj['attributes']:\n",
    "            if attr not in attr_vocab:\n",
    "                attr_vocab[attr] = index\n",
    "                index += 1\n",
    "len(attr_vocab)"
   ]
  },
  {
   "cell_type": "code",
   "execution_count": 24,
   "metadata": {},
   "outputs": [
    {
     "name": "stdout",
     "output_type": "stream",
     "text": [
      "[('of', 0), ('to the right of', 1), ('to the left of', 2), ('wearing', 3), ('reading', 4), ('holding', 5), ('on', 6), ('in', 7), ('under', 8), ('below', 9), ('with', 10), ('on top of', 11), ('above', 12), ('in front of', 13), ('behind', 14), ('by', 15), ('riding', 16), ('playing with', 17), ('parked next to', 18), ('parked in front of', 19), ('near', 20), ('next to', 21), ('mounted on', 22), ('hanging from', 23), ('lying in', 24), ('lying on', 25), ('walking on', 26), ('walking with', 27), ('sitting at', 28), ('using', 29), ('watching', 30), ('inside', 31), ('standing by', 32), ('hanging on', 33), ('filled with', 34), ('full of', 35), ('coming from', 36), ('standing on', 37), ('around', 38), ('touching', 39), ('covered with', 40), ('sitting on', 41), ('walking in', 42), ('stacked on', 43), ('parked along', 44), ('sitting near', 45), ('parked near', 46), ('parked on', 47), ('flying over', 48), ('at', 49)]\n"
     ]
    }
   ],
   "source": [
    "n_items = take(50, relation_vocab.items())\n",
    "print(n_items)"
   ]
  },
  {
   "cell_type": "code",
   "execution_count": 25,
   "metadata": {},
   "outputs": [
    {
     "name": "stdout",
     "output_type": "stream",
     "text": [
      "done with vocab creations\n"
     ]
    }
   ],
   "source": [
    "print(\"done with vocab creations\")"
   ]
  },
  {
   "cell_type": "code",
   "execution_count": 26,
   "metadata": {},
   "outputs": [],
   "source": [
    "master_ds_obj_rel_obj_imageid = {}\n",
    "for idx, record in gqa_vg_train.items():\n",
    "    for obj_key, obj in record['objects'].items():\n",
    "        for relation in obj['relations']:\n",
    "            obj_rel_obj = (obj['name'], relation['name'], redundant_obj_dict[relation['object']])\n",
    "            tuple_indices = []\n",
    "            if obj_rel_obj in master_ds_obj_rel_obj_imageid:\n",
    "                master_ds_obj_rel_obj_imageid[obj_rel_obj].extend([idx])\n",
    "            else:\n",
    "                master_ds_obj_rel_obj_imageid[obj_rel_obj] = [idx]\n"
   ]
  },
  {
   "cell_type": "code",
   "execution_count": 27,
   "metadata": {},
   "outputs": [],
   "source": [
    "# making the obj_rel_obj_imageid have unique images in its list (removing the redundancy of same tuple apprearing more than once in the same image)\n",
    "for key in master_ds_obj_rel_obj_imageid:\n",
    "    unique_image_list = []\n",
    "    for item in master_ds_obj_rel_obj_imageid[key]:\n",
    "        unique_image_list.append(item)\n",
    "    unique_image_list = list(set(unique_image_list))\n",
    "    master_ds_obj_rel_obj_imageid[key] = unique_image_list"
   ]
  },
  {
   "cell_type": "code",
   "execution_count": 28,
   "metadata": {},
   "outputs": [
    {
     "name": "stdout",
     "output_type": "stream",
     "text": [
      "[(('nose', 'of', 'man'), ['2353884']), (('nose', 'to the right of', 'roof'), ['2353884']), (('nose', 'to the left of', 'eyes'), ['2353884']), (('eyes', 'to the right of', 'roof'), ['2353884']), (('eyes', 'to the right of', 'nose'), ['2353884']), (('eyes', 'of', 'man'), ['2353884']), (('sign', 'to the right of', 'man'), ['2317105', '2353884', '2368884']), (('ear', 'of', 'man'), ['2353884']), (('ear', 'to the right of', 'roof'), ['2353884']), (('socks', 'to the left of', 'shorts'), ['2353884']), (('man', 'wearing', 'socks'), ['2353884']), (('man', 'wearing', 'shorts'), ['2360094', '2353884', '2380479', '2374892']), (('man', 'to the left of', 'sign'), ['2317105', '2353884', '2368884']), (('man', 'to the right of', 'man'), ['2360094', '2353884', '2387230', '2413380']), (('man', 'to the right of', 'frisbee'), ['2353884']), (('woman', 'to the left of', 'shorts'), ['2353884']), (('shorts', 'to the right of', 'shoe'), ['2353884']), (('shorts', 'to the right of', 'woman'), ['2353884']), (('shorts', 'to the right of', 'foot'), ['2353884']), (('shorts', 'to the right of', 'socks'), ['2353884'])]\n"
     ]
    }
   ],
   "source": [
    "n_items = take(20, master_ds_obj_rel_obj_imageid.items())\n",
    "print(n_items)"
   ]
  },
  {
   "cell_type": "code",
   "execution_count": 29,
   "metadata": {},
   "outputs": [],
   "source": [
    "master_ds_obj_rel_attr_imageid = {}\n",
    "for idx, record in gqa_vg_train.items():\n",
    "    for obj_key, obj in record['objects'].items():\n",
    "        for attribute in obj['attributes']:\n",
    "            obj_rel_attr = (obj['name'], dummy_rel, attribute)\n",
    "            tuple_indices = []\n",
    "            if obj_rel_attr in master_ds_obj_rel_attr_imageid:\n",
    "                master_ds_obj_rel_attr_imageid[obj_rel_attr].extend([idx])\n",
    "            else:\n",
    "                master_ds_obj_rel_attr_imageid[obj_rel_attr] = [idx]"
   ]
  },
  {
   "cell_type": "code",
   "execution_count": 30,
   "metadata": {},
   "outputs": [],
   "source": [
    "# making the obj_rel_attr_imageid have unique images in its list (removing the redundancy of same tuple apprearing more than once in the same image)\n",
    "for key in master_ds_obj_rel_attr_imageid:\n",
    "    unique_image_list = []\n",
    "    for item in master_ds_obj_rel_attr_imageid[key]:\n",
    "        unique_image_list.append(item)\n",
    "    unique_image_list = list(set(unique_image_list))\n",
    "    master_ds_obj_rel_attr_imageid[key] = unique_image_list"
   ]
  },
  {
   "cell_type": "code",
   "execution_count": 31,
   "metadata": {},
   "outputs": [
    {
     "name": "stdout",
     "output_type": "stream",
     "text": [
      "[('nose', 0)]\n",
      "[('nose', '3952616')]\n"
     ]
    }
   ],
   "source": [
    "n_items = take(1, object_vocab.items())\n",
    "print(n_items)\n",
    "n_items = take(1, inv_redundant_obj_dict.items())\n",
    "print(n_items)"
   ]
  },
  {
   "cell_type": "code",
   "execution_count": 32,
   "metadata": {},
   "outputs": [],
   "source": [
    "inverted_obj_rel_obj_image = {}\n",
    "for key in master_ds_obj_rel_obj_imageid:\n",
    "    obj1 = object_vocab[key[0]]\n",
    "    obj2 = object_vocab[key[2]]\n",
    "    rel = relation_vocab[key[1]]\n",
    "    image_list = []\n",
    "    for item in master_ds_obj_rel_obj_imageid[key]:\n",
    "        image_list.append(image_vocab[item])\n",
    "    inverted_obj_rel_obj_image[(obj1, rel, obj2)] = image_list\n"
   ]
  },
  {
   "cell_type": "code",
   "execution_count": 33,
   "metadata": {},
   "outputs": [
    {
     "name": "stdout",
     "output_type": "stream",
     "text": [
      "[('blue', 0)]\n"
     ]
    }
   ],
   "source": [
    "n_items = take(1, attr_vocab.items())\n",
    "print(n_items)"
   ]
  },
  {
   "cell_type": "code",
   "execution_count": 34,
   "metadata": {},
   "outputs": [],
   "source": [
    "inverted_obj_rel_attr_image = {}\n",
    "for key in master_ds_obj_rel_attr_imageid:\n",
    "    obj = object_vocab[key[0]]\n",
    "    attr = attr_vocab[key[2]]\n",
    "    rel = relation_vocab[key[1]]\n",
    "    image_list = []\n",
    "    for item in master_ds_obj_rel_attr_imageid[key]:\n",
    "        image_list.append(image_vocab[item])\n",
    "    inverted_obj_rel_attr_image[(obj, rel, attr)] = image_list"
   ]
  },
  {
   "cell_type": "code",
   "execution_count": 35,
   "metadata": {},
   "outputs": [],
   "source": [
    "# creating object inverted index\n",
    "inverted_index_object = {}\n",
    "\n",
    "for idx, record in gqa_vg_train.items():\n",
    "    for obj_key, obj in record['objects'].items():\n",
    "        if obj['name'] in inverted_index_object:\n",
    "            inverted_index_object[obj['name']].extend([idx])\n",
    "        else:\n",
    "            inverted_index_object[obj['name']] = [idx]"
   ]
  },
  {
   "cell_type": "code",
   "execution_count": 36,
   "metadata": {},
   "outputs": [
    {
     "data": {
      "text/plain": [
       "422"
      ]
     },
     "execution_count": 36,
     "metadata": {},
     "output_type": "execute_result"
    }
   ],
   "source": [
    "len(inverted_index_object)"
   ]
  },
  {
   "cell_type": "code",
   "execution_count": 37,
   "metadata": {},
   "outputs": [
    {
     "name": "stdout",
     "output_type": "stream",
     "text": [
      "[('nose', ['2353884', '2320168', '2320162', '961', '286099', '2346551', '2352130', '2361702', '2395326', '2317105'])]\n"
     ]
    }
   ],
   "source": [
    "n_items = take(1, inverted_index_object.items())\n",
    "print(n_items)"
   ]
  },
  {
   "cell_type": "code",
   "execution_count": 38,
   "metadata": {},
   "outputs": [],
   "source": [
    "# mapping inverted objects to vocab\n",
    "inverted_obj_image = {}\n",
    "for key in inverted_index_object:\n",
    "    obj = object_vocab[key]\n",
    "    image_list = []\n",
    "    for item in inverted_index_object[key]:\n",
    "        image_list.append(image_vocab[item])\n",
    "    inverted_obj_image[obj] = list(set(image_list))\n",
    "    "
   ]
  },
  {
   "cell_type": "code",
   "execution_count": null,
   "metadata": {},
   "outputs": [],
   "source": []
  },
  {
   "cell_type": "code",
   "execution_count": 39,
   "metadata": {},
   "outputs": [],
   "source": [
    "# creating object inverted index\n",
    "inverted_index_attribute = {}\n",
    "\n",
    "for idx, record in gqa_vg_train.items():\n",
    "    for obj_key, obj in record['objects'].items():\n",
    "        for item in obj['attributes']:\n",
    "            if item in inverted_index_attribute:\n",
    "                inverted_index_attribute[item].extend([idx])\n",
    "            else:\n",
    "                inverted_index_attribute[item] = [idx]"
   ]
  },
  {
   "cell_type": "code",
   "execution_count": 40,
   "metadata": {},
   "outputs": [],
   "source": [
    "# mapping inverted attributes to vocab\n",
    "inverted_attr_image = {}\n",
    "for key in inverted_index_attribute:\n",
    "    attr = attr_vocab[key]\n",
    "    for item in inverted_index_attribute[key]:\n",
    "        image_list.append(image_vocab[item])\n",
    "    inverted_attr_image[attr] = list(set(image_list))"
   ]
  },
  {
   "cell_type": "code",
   "execution_count": 41,
   "metadata": {},
   "outputs": [
    {
     "name": "stdout",
     "output_type": "stream",
     "text": [
      "done with creation of the following inverted indexes : \n",
      "inverted_obj_rel_obj_image, inverted_obj_rel_attr_image, inverted_obj_image, inverted_attr_image\n"
     ]
    }
   ],
   "source": [
    "print(\"done with creation of the following inverted indexes : \")\n",
    "print(\"inverted_obj_rel_obj_image, inverted_obj_rel_attr_image, inverted_obj_image, inverted_attr_image\")"
   ]
  },
  {
   "cell_type": "code",
   "execution_count": 42,
   "metadata": {},
   "outputs": [
    {
     "name": "stdout",
     "output_type": "stream",
     "text": [
      "[((0, 0, 8), [0])]\n",
      "[((2, 62, 0), [35, 87, 0])]\n",
      "[(0, [0, 1, 32, 66, 5, 38, 74, 48, 87, 31])]\n",
      "[(0, [0, 4, 5, 11, 20, 23, 29, 31, 32, 34, 35, 37, 39, 40, 41, 45, 49, 54, 55, 56, 57, 67, 69, 71, 73, 74, 75, 77, 81, 85, 86, 87, 89, 90, 93, 96, 97, 99])]\n"
     ]
    }
   ],
   "source": [
    "n_items = take(1, inverted_obj_rel_obj_image.items())\n",
    "print(n_items)\n",
    "n_items = take(1, inverted_obj_rel_attr_image.items())\n",
    "print(n_items)\n",
    "n_items = take(1, inverted_obj_image.items())\n",
    "print(n_items)\n",
    "n_items = take(1, inverted_attr_image.items())\n",
    "print(n_items)"
   ]
  },
  {
   "cell_type": "code",
   "execution_count": 43,
   "metadata": {},
   "outputs": [
    {
     "name": "stdout",
     "output_type": "stream",
     "text": [
      "checking all the relevant vocabularies : \n",
      "[('nose', 0)]\n",
      "[('2353884', 0)]\n",
      "[('of', 0)]\n",
      "[('blue', 0)]\n",
      "[('2716708', 'nose')]\n"
     ]
    }
   ],
   "source": [
    "print(\"checking all the relevant vocabularies : \")\n",
    "n_items = take(1, object_vocab.items())\n",
    "print(n_items)\n",
    "n_items = take(1, image_vocab.items())\n",
    "print(n_items)\n",
    "n_items = take(1, relation_vocab.items())\n",
    "print(n_items)\n",
    "n_items = take(1, attr_vocab.items())\n",
    "print(n_items)\n",
    "n_items = take(1, redundant_obj_dict.items())\n",
    "print(n_items)"
   ]
  },
  {
   "cell_type": "code",
   "execution_count": 44,
   "metadata": {},
   "outputs": [
    {
     "name": "stdout",
     "output_type": "stream",
     "text": [
      "Creation of the schema graph :\n"
     ]
    }
   ],
   "source": [
    "print(\"Creation of the schema graph :\")"
   ]
  },
  {
   "cell_type": "code",
   "execution_count": 45,
   "metadata": {},
   "outputs": [
    {
     "data": {
      "text/plain": [
       "(422,)"
      ]
     },
     "execution_count": 45,
     "metadata": {},
     "output_type": "execute_result"
    }
   ],
   "source": [
    "objects_array=np.zeros(len(object_vocab))\n",
    "objects_array.shape"
   ]
  },
  {
   "cell_type": "code",
   "execution_count": 46,
   "metadata": {},
   "outputs": [],
   "source": [
    "idx = 0\n",
    "for key in object_vocab:\n",
    "    objects_array[idx] = object_vocab[key]\n",
    "    idx += 1"
   ]
  },
  {
   "cell_type": "code",
   "execution_count": 47,
   "metadata": {},
   "outputs": [],
   "source": [
    "num_nodes = len(objects_array)"
   ]
  },
  {
   "cell_type": "code",
   "execution_count": 48,
   "metadata": {},
   "outputs": [],
   "source": [
    "adj_mat_obj_obj=np.zeros((num_nodes,num_nodes))\n",
    "#     for key in all_edges.keys() : \n",
    "#         node1=key[0]\n",
    "#         node2=key[1]\n",
    "#         for value in all_edges[key] : \n",
    "#             adj_mat[node1,node2,rel2ind[value]]=float(rel2ind[value])\n",
    "for key in inverted_obj_rel_obj_image:\n",
    "#     print(key, inverted_obj_rel_obj_image[key])\n",
    "#     break\n",
    "    obj1 = key[0]\n",
    "    obj2 = key[2]\n",
    "    rel = key[1]\n",
    "    adj_mat_obj_obj[obj1, obj2] = relation_vocab[rel]"
   ]
  },
  {
   "cell_type": "code",
   "execution_count": 49,
   "metadata": {},
   "outputs": [
    {
     "name": "stdout",
     "output_type": "stream",
     "text": [
      "(422, 422)\n"
     ]
    }
   ],
   "source": [
    "print(adj_mat_obj_obj.shape)"
   ]
  },
  {
   "cell_type": "code",
   "execution_count": 50,
   "metadata": {},
   "outputs": [
    {
     "data": {
      "text/plain": [
       "(166,)"
      ]
     },
     "execution_count": 50,
     "metadata": {},
     "output_type": "execute_result"
    }
   ],
   "source": [
    "attribute_array=np.zeros(len(attr_vocab))\n",
    "\n",
    "attribute_array.shape"
   ]
  },
  {
   "cell_type": "code",
   "execution_count": 51,
   "metadata": {},
   "outputs": [],
   "source": [
    "idx = 0\n",
    "for key in attr_vocab:\n",
    "    attribute_array[idx] = attr_vocab[key]\n",
    "    idx += 1"
   ]
  },
  {
   "cell_type": "code",
   "execution_count": 52,
   "metadata": {},
   "outputs": [
    {
     "data": {
      "text/plain": [
       "166"
      ]
     },
     "execution_count": 52,
     "metadata": {},
     "output_type": "execute_result"
    }
   ],
   "source": [
    "num_attrs = len(attr_vocab)\n",
    "num_attrs"
   ]
  },
  {
   "cell_type": "code",
   "execution_count": 53,
   "metadata": {},
   "outputs": [],
   "source": [
    "adj_mat_obj_attr=np.zeros((num_nodes,num_attrs))\n",
    "#     for key in all_edges.keys() : \n",
    "#         node1=key[0]\n",
    "#         node2=key[1]\n",
    "#         for value in all_edges[key] : \n",
    "#             adj_mat[node1,node2,rel2ind[value]]=float(rel2ind[value])\n",
    "for key in inverted_obj_rel_attr_image:\n",
    "#     print(key, inverted_obj_rel_obj_image[key])\n",
    "#     break\n",
    "    obj = key[0]\n",
    "    attr = key[2]\n",
    "    rel = key[1]\n",
    "    adj_mat_obj_attr[obj, attr] = relation_vocab[dummy_rel]"
   ]
  },
  {
   "cell_type": "code",
   "execution_count": 54,
   "metadata": {},
   "outputs": [
    {
     "data": {
      "text/plain": [
       "(422, 166)"
      ]
     },
     "execution_count": 54,
     "metadata": {},
     "output_type": "execute_result"
    }
   ],
   "source": [
    "adj_mat_obj_attr.shape"
   ]
  },
  {
   "cell_type": "code",
   "execution_count": 55,
   "metadata": {},
   "outputs": [
    {
     "name": "stdout",
     "output_type": "stream",
     "text": [
      "Creation of all Data structures for the Schema graph and inverted indexes is done..\n"
     ]
    }
   ],
   "source": [
    "print(\"Creation of all Data structures for the Schema graph and inverted indexes is done..\")"
   ]
  },
  {
   "cell_type": "code",
   "execution_count": 56,
   "metadata": {},
   "outputs": [],
   "source": [
    "schema_graph={'object_nodes' : objects_array, \n",
    "              'attr_nodes' : attribute_array, \n",
    "              'object_object_edges' : adj_mat_obj_obj, \n",
    "              'object_attr_edges' : adj_mat_obj_attr}\n",
    "inverted_index={'object_nodes' : inverted_obj_image, \n",
    "                  'attr_nodes' : inverted_attr_image, \n",
    "                  'object_object_edges' : inverted_obj_rel_obj_image, \n",
    "                  'object_attr_edges' : inverted_obj_rel_attr_image}\n"
   ]
  },
  {
   "cell_type": "code",
   "execution_count": 57,
   "metadata": {},
   "outputs": [],
   "source": [
    "args = 'train'"
   ]
  },
  {
   "cell_type": "code",
   "execution_count": 58,
   "metadata": {},
   "outputs": [
    {
     "name": "stdout",
     "output_type": "stream",
     "text": [
      "schema graph and inverted indexes are saved\n"
     ]
    }
   ],
   "source": [
    "np.save('schema_graph_'+args+'.npy',schema_graph)\n",
    "np.save('inverted_index_'+args+'.npy',inverted_index)\n",
    "print(\"schema graph and inverted indexes are saved\")"
   ]
  },
  {
   "cell_type": "code",
   "execution_count": 59,
   "metadata": {},
   "outputs": [
    {
     "name": "stdout",
     "output_type": "stream",
     "text": [
      "166\n",
      "167\n"
     ]
    }
   ],
   "source": [
    "# adding a <pad> attribute to the attr_vocab\n",
    "dummy_rel = '<pad>'\n",
    "print(len(attr_vocab))\n",
    "attr_vocab['<pad>'] = len(attr_vocab) + 1\n",
    "print(len(attr_vocab))"
   ]
  },
  {
   "cell_type": "code",
   "execution_count": 60,
   "metadata": {},
   "outputs": [
    {
     "name": "stdout",
     "output_type": "stream",
     "text": [
      "image_vocab, object_vocab, relation_vocab, attr_vocab, redundant_obj_dict saved..\n"
     ]
    }
   ],
   "source": [
    "# saving all the important vocabularies \n",
    "np.save('image_vocab.npy',image_vocab)\n",
    "np.save('object_vocab.npy',object_vocab)\n",
    "np.save('relation_vocab.npy',relation_vocab)\n",
    "np.save('attr_vocab.npy',attr_vocab)\n",
    "np.save('redundant_obj_dict.npy',redundant_obj_dict)\n",
    "print(\"image_vocab, object_vocab, relation_vocab, attr_vocab, redundant_obj_dict saved..\")"
   ]
  },
  {
   "cell_type": "code",
   "execution_count": null,
   "metadata": {},
   "outputs": [],
   "source": []
  },
  {
   "cell_type": "code",
   "execution_count": null,
   "metadata": {},
   "outputs": [],
   "source": []
  },
  {
   "cell_type": "code",
   "execution_count": null,
   "metadata": {},
   "outputs": [],
   "source": []
  },
  {
   "cell_type": "code",
   "execution_count": null,
   "metadata": {},
   "outputs": [],
   "source": []
  }
 ],
 "metadata": {
  "kernelspec": {
   "display_name": "Python 3",
   "language": "python",
   "name": "python3"
  },
  "language_info": {
   "codemirror_mode": {
    "name": "ipython",
    "version": 3
   },
   "file_extension": ".py",
   "mimetype": "text/x-python",
   "name": "python",
   "nbconvert_exporter": "python",
   "pygments_lexer": "ipython3",
   "version": "3.7.3"
  }
 },
 "nbformat": 4,
 "nbformat_minor": 2
}
