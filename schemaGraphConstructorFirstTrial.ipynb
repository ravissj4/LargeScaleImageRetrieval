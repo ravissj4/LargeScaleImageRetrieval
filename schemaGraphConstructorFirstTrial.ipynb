{
 "cells": [
  {
   "cell_type": "code",
   "execution_count": 1,
   "metadata": {},
   "outputs": [],
   "source": [
    "# Author : Ravi Ranjan\n",
    "# IIT Bombay 2018-2020\n",
    "\n",
    "import json\n",
    "import numpy as np"
   ]
  },
  {
   "cell_type": "code",
   "execution_count": 2,
   "metadata": {},
   "outputs": [],
   "source": [
    "from itertools import islice\n",
    "def take(n, iterable):\n",
    "    \"Return first n items of the iterable as a list\"\n",
    "    return list(islice(iterable, n))"
   ]
  },
  {
   "cell_type": "code",
   "execution_count": 3,
   "metadata": {},
   "outputs": [],
   "source": [
    "with open('train_sceneGraphs.json') as f:\n",
    "    gqa_vg_train = json.load(f)"
   ]
  },
  {
   "cell_type": "code",
   "execution_count": 4,
   "metadata": {},
   "outputs": [],
   "source": [
    "num_images = 0\n",
    "for idx, record in gqa_vg_train.items():\n",
    "    num_images += 1\n"
   ]
  },
  {
   "cell_type": "code",
   "execution_count": 5,
   "metadata": {},
   "outputs": [
    {
     "name": "stdout",
     "output_type": "stream",
     "text": [
      "74942\n"
     ]
    }
   ],
   "source": [
    "print(num_images)"
   ]
  },
  {
   "cell_type": "code",
   "execution_count": 6,
   "metadata": {},
   "outputs": [],
   "source": [
    "temp_dict = {}\n",
    "# number of images in the catalog = N\n",
    "N = 100\n",
    "i = 0\n",
    "for idx, record in gqa_vg_train.items():\n",
    "    temp_dict[idx] = record\n",
    "    i += 1\n",
    "    if i == N:\n",
    "        break\n",
    "# print(len(temp_dict))"
   ]
  },
  {
   "cell_type": "code",
   "execution_count": 7,
   "metadata": {},
   "outputs": [
    {
     "name": "stdout",
     "output_type": "stream",
     "text": [
      "100\n"
     ]
    }
   ],
   "source": [
    "gqa_vg_train = temp_dict\n",
    "print(len(gqa_vg_train))"
   ]
  },
  {
   "cell_type": "code",
   "execution_count": 8,
   "metadata": {},
   "outputs": [],
   "source": [
    "redundant_obj_dict = {}\n",
    "for idx, record in gqa_vg_train.items():\n",
    "    for obj_key, obj in record['objects'].items():\n",
    "        redundant_obj_dict[obj_key] = obj['name']\n"
   ]
  },
  {
   "cell_type": "code",
   "execution_count": 9,
   "metadata": {},
   "outputs": [
    {
     "data": {
      "text/plain": [
       "1546"
      ]
     },
     "execution_count": 9,
     "metadata": {},
     "output_type": "execute_result"
    }
   ],
   "source": [
    "len(redundant_obj_dict)"
   ]
  },
  {
   "cell_type": "code",
   "execution_count": 10,
   "metadata": {},
   "outputs": [],
   "source": [
    "# creation of object vocab\n",
    "object_vocab = {}\n",
    "index = 0\n",
    "for key in redundant_obj_dict:\n",
    "#     print(key, redundant_obj_dict[key])\n",
    "#     break\n",
    "    object_vocab[index] = key\n",
    "    index += 1\n"
   ]
  },
  {
   "cell_type": "code",
   "execution_count": 11,
   "metadata": {},
   "outputs": [
    {
     "data": {
      "text/plain": [
       "1546"
      ]
     },
     "execution_count": 11,
     "metadata": {},
     "output_type": "execute_result"
    }
   ],
   "source": [
    "len(object_vocab)"
   ]
  },
  {
   "cell_type": "code",
   "execution_count": 12,
   "metadata": {},
   "outputs": [],
   "source": [
    "# for key in object_vocab:\n",
    "#     print(key, object_vocab[key])"
   ]
  },
  {
   "cell_type": "code",
   "execution_count": 13,
   "metadata": {},
   "outputs": [],
   "source": [
    "final_object_vocab = {}\n",
    "for key in object_vocab:\n",
    "    if object_vocab[key] in redundant_obj_dict:\n",
    "        value = redundant_obj_dict[object_vocab[key]]\n",
    "    final_object_vocab[key] = value"
   ]
  },
  {
   "cell_type": "code",
   "execution_count": 14,
   "metadata": {},
   "outputs": [],
   "source": [
    "inv_final_object_vocab = {v: k for k, v in final_object_vocab.items()}\n"
   ]
  },
  {
   "cell_type": "code",
   "execution_count": 15,
   "metadata": {},
   "outputs": [],
   "source": [
    "#creation of image vocab\n",
    "image_vocab = {}\n",
    "index = 0\n",
    "for idx, record in gqa_vg_train.items():\n",
    "    image_vocab[index] = idx\n",
    "    index += 1"
   ]
  },
  {
   "cell_type": "code",
   "execution_count": 16,
   "metadata": {},
   "outputs": [
    {
     "name": "stdout",
     "output_type": "stream",
     "text": [
      "{0: '2386621', 1: '2373554', 2: '2370799', 3: '2370791', 4: '2370790', 5: '2332650', 6: '2373556', 7: '2414608', 8: '2373557', 9: '2413658', 10: '2413659', 11: '2369664', 12: '2414602', 13: '2372862', 14: '2413656', 15: '2414601', 16: '2414606', 17: '2413651', 18: '2413652', 19: '2413653', 20: '2381495', 21: '2381496', 22: '2381497', 23: '2381490', 24: '2381491', 25: '2381492', 26: '2381493', 27: '2410695', 28: '2373553', 29: '2385188', 30: '2410694', 31: '2394856', 32: '2320344', 33: '2325191', 34: '2370426', 35: '2320341', 36: '2320340', 37: '2394850', 38: '2325194', 39: '2378231', 40: '2325199', 41: '2325198', 42: '2320349', 43: '2320348', 44: '2394858', 45: '2394859', 46: '2323920', 47: '2413387', 48: '2323923', 49: '2413382', 50: '2413383', 51: '2331248', 52: '2331249', 53: '2323928', 54: '2341995', 55: '2331245', 56: '2331242', 57: '2331243', 58: '2331240', 59: '2331241', 60: '2360367', 61: '2360366', 62: '2360365', 63: '2360364', 64: '2360362', 65: '2360361', 66: '2406408', 67: '2406407', 68: '2406406', 69: '2406405', 70: '2406403', 71: '2406402', 72: '2360369', 73: '2360368', 74: '2383403', 75: '2410438', 76: '2352133', 77: '2399753', 78: '2399750', 79: '2399751', 80: '2352137', 81: '2399757', 82: '2399754', 83: '2399755', 84: '2394588', 85: '2394589', 86: '2399758', 87: '2399759', 88: '271', 89: '272', 90: '273', 91: '274', 92: '2331859', 93: '276', 94: '277', 95: '278', 96: '279', 97: '3487', 98: '2354094', 99: '2415559'}\n"
     ]
    }
   ],
   "source": [
    "print(image_vocab)"
   ]
  },
  {
   "cell_type": "code",
   "execution_count": 17,
   "metadata": {},
   "outputs": [
    {
     "name": "stdout",
     "output_type": "stream",
     "text": [
      "61\n"
     ]
    }
   ],
   "source": [
    "# creation of relationship vocab\n",
    "relation_vocab = {}\n",
    "index  = 0\n",
    "for idx, record in gqa_vg_train.items():\n",
    "    for obj_key, obj in record['objects'].items():\n",
    "        for relation in obj['relations']:\n",
    "            if relation['name'] not in relation_vocab:\n",
    "                relation_vocab[relation['name']] = index\n",
    "                index += 1\n",
    "print(len(relation_vocab))                "
   ]
  },
  {
   "cell_type": "code",
   "execution_count": null,
   "metadata": {},
   "outputs": [],
   "source": []
  },
  {
   "cell_type": "code",
   "execution_count": 18,
   "metadata": {},
   "outputs": [
    {
     "data": {
      "text/plain": [
       "162"
      ]
     },
     "execution_count": 18,
     "metadata": {},
     "output_type": "execute_result"
    }
   ],
   "source": [
    "# creation of inverted attribute vocab\n",
    "inv_attr_vocab = {}\n",
    "index = 0\n",
    "for idx, record in gqa_vg_train.items():\n",
    "    for obj_key, obj in record['objects'].items():\n",
    "        for attr in obj['attributes']:\n",
    "            if attr not in inv_attr_vocab:\n",
    "                inv_attr_vocab[attr] = index\n",
    "                index += 1\n",
    "len(inv_attr_vocab)"
   ]
  },
  {
   "cell_type": "code",
   "execution_count": 19,
   "metadata": {},
   "outputs": [],
   "source": [
    "# inv_attr_vocab"
   ]
  },
  {
   "cell_type": "code",
   "execution_count": 20,
   "metadata": {},
   "outputs": [],
   "source": [
    "attr_vocab = {v: k for k, v in inv_attr_vocab.items()}"
   ]
  },
  {
   "cell_type": "code",
   "execution_count": 21,
   "metadata": {},
   "outputs": [
    {
     "data": {
      "text/plain": [
       "{0: 'small',\n",
       " 1: 'yellow',\n",
       " 2: 'delicious',\n",
       " 3: 'white',\n",
       " 4: 'plastic',\n",
       " 5: 'brown',\n",
       " 6: 'piled',\n",
       " 7: 'green',\n",
       " 8: 'full',\n",
       " 9: 'red',\n",
       " 10: 'large',\n",
       " 11: 'metal',\n",
       " 12: 'silver',\n",
       " 13: 'cream colored',\n",
       " 14: 'covered',\n",
       " 15: 'black',\n",
       " 16: 'blue',\n",
       " 17: 'orange',\n",
       " 18: 'old',\n",
       " 19: 'tall',\n",
       " 20: 'framed',\n",
       " 21: 'wood',\n",
       " 22: 'electric',\n",
       " 23: 'chrome',\n",
       " 24: 'gray',\n",
       " 25: 'dotted',\n",
       " 26: 'water',\n",
       " 27: 'calm',\n",
       " 28: 'shirtless',\n",
       " 29: 'surfing',\n",
       " 30: 'splashing',\n",
       " 31: 'colorful',\n",
       " 32: 'snowy',\n",
       " 33: 'standing',\n",
       " 34: 'skiing',\n",
       " 35: 'crouched',\n",
       " 36: 'round',\n",
       " 37: 'striped',\n",
       " 38: 'dirty',\n",
       " 39: 'grouped',\n",
       " 40: 'tan',\n",
       " 41: 'posing',\n",
       " 42: 'eating',\n",
       " 43: 'styrofoam',\n",
       " 44: 'paper',\n",
       " 45: 'scrambled',\n",
       " 46: 'used',\n",
       " 47: 'sitting',\n",
       " 48: 'walking',\n",
       " 49: 'leafy',\n",
       " 50: 'pale',\n",
       " 51: 'plaid',\n",
       " 52: 'checkered',\n",
       " 53: 'office',\n",
       " 54: 'curved',\n",
       " 55: 'beautiful',\n",
       " 56: 'faded',\n",
       " 57: 'parked',\n",
       " 58: 'wet',\n",
       " 59: 'concrete',\n",
       " 60: 'rubber',\n",
       " 61: 'cloudy',\n",
       " 62: 'shining',\n",
       " 63: 'bright',\n",
       " 64: 'tiled',\n",
       " 65: 'rectangular',\n",
       " 66: 'glass',\n",
       " 67: 'pink',\n",
       " 68: 'rolled',\n",
       " 69: 'mounted',\n",
       " 70: 'granite',\n",
       " 71: 'speckled',\n",
       " 72: 'marble',\n",
       " 73: 'painted',\n",
       " 74: 'cracked',\n",
       " 75: 'bare',\n",
       " 76: 'open',\n",
       " 77: 'shiny',\n",
       " 78: 'empty',\n",
       " 79: 'thick',\n",
       " 80: 'pretty',\n",
       " 81: 'still',\n",
       " 82: 'short',\n",
       " 83: 'cut',\n",
       " 84: 'skinny',\n",
       " 85: 'closed',\n",
       " 86: 'pointy',\n",
       " 87: 'long',\n",
       " 88: 'young',\n",
       " 89: 'little',\n",
       " 90: 'tied',\n",
       " 91: 'barefoot',\n",
       " 92: 'hanging',\n",
       " 93: 'clean',\n",
       " 94: 'brick',\n",
       " 95: 'stone',\n",
       " 96: 'iron',\n",
       " 97: 'perched',\n",
       " 98: 'murky',\n",
       " 99: 'ripe',\n",
       " 100: 'overhead',\n",
       " 101: 'dry',\n",
       " 102: 'clear',\n",
       " 103: 'blond',\n",
       " 104: 'playing',\n",
       " 105: 'flying',\n",
       " 106: 'mowed',\n",
       " 107: 'feathered',\n",
       " 108: 'cloudless',\n",
       " 109: 'leafless',\n",
       " 110: 'curly',\n",
       " 111: 'chain-link',\n",
       " 112: 'long sleeved',\n",
       " 113: 'dark',\n",
       " 114: 'artificial',\n",
       " 115: 'beige',\n",
       " 116: 'sliced',\n",
       " 117: 'aluminum',\n",
       " 118: 'burnt',\n",
       " 119: 'reflective',\n",
       " 120: 'cooked',\n",
       " 121: 'dull',\n",
       " 122: 'juicy',\n",
       " 123: 'drinking',\n",
       " 124: 'toasted',\n",
       " 125: 'ceramic',\n",
       " 126: 'shredded',\n",
       " 127: 'wire',\n",
       " 128: 'wavy',\n",
       " 129: 'crumpled',\n",
       " 130: 'antique',\n",
       " 131: 'smiling',\n",
       " 132: 'happy',\n",
       " 133: 'light blue',\n",
       " 134: 'octagonal',\n",
       " 135: 'steel',\n",
       " 136: 'shaved',\n",
       " 137: 'grated',\n",
       " 138: 'woven',\n",
       " 139: 'flat',\n",
       " 140: 'displayed',\n",
       " 141: 'purple',\n",
       " 142: 'assorted',\n",
       " 143: 'busy',\n",
       " 144: 'tight',\n",
       " 145: 'light',\n",
       " 146: 'talking',\n",
       " 147: 'staring',\n",
       " 148: 'fake',\n",
       " 149: 'fuzzy',\n",
       " 150: 'furry',\n",
       " 151: 'upper',\n",
       " 152: 'asphalt',\n",
       " 153: 'puffy',\n",
       " 154: 'docked',\n",
       " 155: 'overcast',\n",
       " 156: 'male',\n",
       " 157: 'bushy',\n",
       " 158: 'street',\n",
       " 159: 'fire',\n",
       " 160: 'double decker',\n",
       " 161: 'raised'}"
      ]
     },
     "execution_count": 21,
     "metadata": {},
     "output_type": "execute_result"
    }
   ],
   "source": [
    "attr_vocab"
   ]
  },
  {
   "cell_type": "code",
   "execution_count": null,
   "metadata": {},
   "outputs": [],
   "source": []
  },
  {
   "cell_type": "code",
   "execution_count": 22,
   "metadata": {},
   "outputs": [],
   "source": [
    "master_ds_obj_rel_obj_imageid = {}\n",
    "for idx, record in gqa_vg_train.items():\n",
    "    for obj_key, obj in record['objects'].items():\n",
    "        for relation in obj['relations']:\n",
    "            obj_rel_obj = (obj['name'], relation['name'], redundant_obj_dict[relation['object']])\n",
    "            tuple_indices = []\n",
    "            if obj_rel_obj in master_ds_obj_rel_obj_imageid:\n",
    "                for item in master_ds_obj_rel_obj_imageid[obj_rel_obj]:\n",
    "                    tuple_indices.append(item)\n",
    "                tuple_indices.append(idx)\n",
    "            else:\n",
    "                tuple_indices.append(idx)\n",
    "            master_ds_obj_rel_obj_imageid[obj_rel_obj] = tuple_indices"
   ]
  },
  {
   "cell_type": "code",
   "execution_count": 23,
   "metadata": {},
   "outputs": [
    {
     "name": "stdout",
     "output_type": "stream",
     "text": [
      "('banana', 'to the left of', 'straw')   ['2386621', '2386621']\n"
     ]
    }
   ],
   "source": [
    "# checking the dictionary by printing it\n",
    "for key in master_ds_obj_rel_obj_imageid:\n",
    "    print(key, \" \", master_ds_obj_rel_obj_imageid[key])\n",
    "    break"
   ]
  },
  {
   "cell_type": "code",
   "execution_count": 24,
   "metadata": {},
   "outputs": [],
   "source": [
    "dummy_rel = 'dummy'\n",
    "master_ds_obj_rel_attr_imageid = {}\n",
    "for idx, record in gqa_vg_train.items():\n",
    "    for obj_key, obj in record['objects'].items():\n",
    "        for attribute in obj['attributes']:\n",
    "            obj_rel_attr = (obj['name'], dummy_rel, attribute)\n",
    "            tuple_indices = []\n",
    "            if obj_rel_attr in master_ds_obj_rel_attr_imageid:\n",
    "                for item in master_ds_obj_rel_attr_imageid[obj_rel_attr]:\n",
    "                    tuple_indices.append(item)\n",
    "                tuple_indices.append(idx)\n",
    "            else:\n",
    "                tuple_indices.append(idx)\n",
    "            master_ds_obj_rel_attr_imageid[obj_rel_attr] = tuple_indices"
   ]
  },
  {
   "cell_type": "code",
   "execution_count": 25,
   "metadata": {},
   "outputs": [],
   "source": [
    "# # checking the dictionary by printing it\n",
    "# for key in master_ds_obj_rel_attr_imageid:\n",
    "#     print(key, \" \", master_ds_obj_rel_attr_imageid[key])\n"
   ]
  },
  {
   "cell_type": "code",
   "execution_count": 26,
   "metadata": {},
   "outputs": [],
   "source": [
    "# object and attribute inverted indices"
   ]
  },
  {
   "cell_type": "code",
   "execution_count": 27,
   "metadata": {},
   "outputs": [],
   "source": [
    "inverted_index_object = {}\n",
    "\n",
    "for idx, record in gqa_vg_train.items():\n",
    "    for obj_key, obj in record['objects'].items():\n",
    "#         inverted_index_object[obj['name']] = idx\n",
    "        inverted_imageids = []\n",
    "        if obj['name'] in inverted_index_object:\n",
    "            for item in inverted_index_object[obj['name']]:\n",
    "                inverted_imageids.append(item)\n",
    "            inverted_imageids.append(idx)\n",
    "        inverted_index_object[obj['name']] = inverted_imageids"
   ]
  },
  {
   "cell_type": "code",
   "execution_count": null,
   "metadata": {},
   "outputs": [],
   "source": []
  },
  {
   "cell_type": "code",
   "execution_count": 28,
   "metadata": {},
   "outputs": [],
   "source": [
    "inverted_index_attribute = {}\n",
    "\n",
    "for idx, record in gqa_vg_train.items():\n",
    "    for obj_key, obj in record['objects'].items():\n",
    "        for item in obj['attributes']:\n",
    "            inverted_imageids = []\n",
    "            if item in inverted_index_attribute:\n",
    "                for value in inverted_index_attribute[item]:\n",
    "                    inverted_imageids.append(value)\n",
    "                inverted_imageids.append(idx)\n",
    "            inverted_index_attribute[item] = inverted_imageids"
   ]
  },
  {
   "cell_type": "code",
   "execution_count": 29,
   "metadata": {},
   "outputs": [],
   "source": [
    "# for key in attr_dictionary:\n",
    "#     print(key, \":\", attr_dictionary[key])"
   ]
  },
  {
   "cell_type": "code",
   "execution_count": 30,
   "metadata": {},
   "outputs": [
    {
     "data": {
      "text/plain": [
       "162"
      ]
     },
     "execution_count": 30,
     "metadata": {},
     "output_type": "execute_result"
    }
   ],
   "source": [
    "len(inverted_index_attribute.keys())"
   ]
  },
  {
   "cell_type": "code",
   "execution_count": 31,
   "metadata": {},
   "outputs": [],
   "source": [
    "# n_items = take(1, master_ds_obj_rel_obj_imageid.items())\n",
    "# print(n_items)\n",
    "# print(\"=======================================================================================\")\n",
    "# n_items = take(1, master_ds_obj_rel_attr_imageid.items())\n",
    "# print(n_items)\n",
    "# print(\"=======================================================================================\")\n",
    "# n_items = take(1, obj_dictionary.items())\n",
    "# print(n_items)\n",
    "# print(\"=======================================================================================\")\n",
    "# n_items = take(1, attr_dictionary.items())\n",
    "# print(n_items)\n",
    "# print(\"=======================================================================================\")"
   ]
  },
  {
   "cell_type": "code",
   "execution_count": 32,
   "metadata": {},
   "outputs": [
    {
     "name": "stdout",
     "output_type": "stream",
     "text": [
      "('banana', 'to the left of', 'straw') ['2386621', '2386621']\n"
     ]
    }
   ],
   "source": [
    "# mapping everything in original form to custom vocabularies\n",
    "for key in master_ds_obj_rel_obj_imageid:\n",
    "    print(key, master_ds_obj_rel_obj_imageid[key])\n",
    "    break"
   ]
  },
  {
   "cell_type": "code",
   "execution_count": 33,
   "metadata": {},
   "outputs": [
    {
     "name": "stdout",
     "output_type": "stream",
     "text": [
      "[(0, '2386621')]\n",
      "[(0, '681267')]\n",
      "[(0, 'small')]\n",
      "[('small', 0)]\n"
     ]
    }
   ],
   "source": [
    "# further vocabs\n",
    "n_items = take(1, image_vocab.items())\n",
    "print(n_items)\n",
    "n_items = take(1, object_vocab.items())\n",
    "print(n_items)\n",
    "n_items = take(1, attr_vocab.items())\n",
    "print(n_items)\n",
    "n_items = take(1, inv_attr_vocab.items())\n",
    "print(n_items)\n"
   ]
  },
  {
   "cell_type": "code",
   "execution_count": 34,
   "metadata": {},
   "outputs": [],
   "source": [
    "# creating inverse vocabs for images and objects and redundant_objects\n",
    "inv_object_vocab = {v: k for k, v in object_vocab.items()}\n",
    "inv_image_vocab = {v: k for k, v in image_vocab.items()}\n",
    "inv_redundant_obj_dict = {v: k for k, v in redundant_obj_dict.items()}"
   ]
  },
  {
   "cell_type": "code",
   "execution_count": 35,
   "metadata": {},
   "outputs": [
    {
     "name": "stdout",
     "output_type": "stream",
     "text": [
      "[(0, '2386621')]\n",
      "[(0, '681267')]\n",
      "[(0, 'small')]\n",
      "[('small', 0)]\n",
      "[('2386621', 0)]\n",
      "[('681267', 0)]\n",
      "[('681267', 'banana')]\n",
      "[('banana', '211523')]\n",
      "[('to the left of', 0)]\n"
     ]
    }
   ],
   "source": [
    "n_items = take(1, image_vocab.items())\n",
    "print(n_items)\n",
    "n_items = take(1, object_vocab.items())\n",
    "print(n_items)\n",
    "n_items = take(1, attr_vocab.items())\n",
    "print(n_items)\n",
    "n_items = take(1, inv_attr_vocab.items())\n",
    "print(n_items)\n",
    "n_items = take(1, inv_image_vocab.items())\n",
    "print(n_items)\n",
    "n_items = take(1, inv_object_vocab.items())\n",
    "print(n_items)\n",
    "n_items = take(1, redundant_obj_dict.items())\n",
    "print(n_items)\n",
    "n_items = take(1, inv_redundant_obj_dict.items())\n",
    "print(n_items)\n",
    "n_items = take(1, relation_vocab.items())\n",
    "print(n_items)"
   ]
  },
  {
   "cell_type": "code",
   "execution_count": 36,
   "metadata": {},
   "outputs": [],
   "source": [
    "# for key in relation_vocab:\n",
    "#     print(key, relation_vocab[key])"
   ]
  },
  {
   "cell_type": "code",
   "execution_count": 37,
   "metadata": {},
   "outputs": [
    {
     "name": "stdout",
     "output_type": "stream",
     "text": [
      "61\n",
      "62\n"
     ]
    }
   ],
   "source": [
    "print(len(relation_vocab))\n",
    "relation_vocab['dummy'] = len(relation_vocab) + 1\n",
    "print(len(relation_vocab))"
   ]
  },
  {
   "cell_type": "code",
   "execution_count": 38,
   "metadata": {},
   "outputs": [],
   "source": [
    "# mapping everything in original form to custom vocabularies\n",
    "inverted_obj_rel_obj_image = {}\n",
    "for key in master_ds_obj_rel_obj_imageid:\n",
    "    obj1 = inv_object_vocab[inv_redundant_obj_dict[key[0]]]\n",
    "    obj2 = inv_object_vocab[inv_redundant_obj_dict[key[2]]]\n",
    "    rel = relation_vocab[key[1]]\n",
    "    image_list = []\n",
    "    for item in master_ds_obj_rel_obj_imageid[key]:\n",
    "        image_list.append(inv_image_vocab[item])\n",
    "    inverted_obj_rel_obj_image[(obj1, rel, obj2)] = list(set(image_list))\n"
   ]
  },
  {
   "cell_type": "code",
   "execution_count": 39,
   "metadata": {},
   "outputs": [],
   "source": [
    "assert len(master_ds_obj_rel_obj_imageid) == len(inverted_obj_rel_obj_image)"
   ]
  },
  {
   "cell_type": "code",
   "execution_count": 40,
   "metadata": {},
   "outputs": [
    {
     "name": "stdout",
     "output_type": "stream",
     "text": [
      "[('small', 0)]\n"
     ]
    }
   ],
   "source": [
    "n_items = take(1, inv_attr_vocab.items())\n",
    "print(n_items)"
   ]
  },
  {
   "cell_type": "code",
   "execution_count": 41,
   "metadata": {},
   "outputs": [],
   "source": [
    "inverted_obj_rel_attr_image = {}\n",
    "for key in master_ds_obj_rel_attr_imageid:\n",
    "    obj = inv_object_vocab[inv_redundant_obj_dict[key[0]]]\n",
    "    attr = inv_attr_vocab[key[2]]\n",
    "    rel = relation_vocab[key[1]]\n",
    "    image_list = []\n",
    "    for item in master_ds_obj_rel_attr_imageid[key]:\n",
    "        image_list.append(inv_image_vocab[item])\n",
    "    inverted_obj_rel_attr_image[(obj, rel, attr)] = list(set(image_list))\n",
    "#     break\n",
    "# print(obj, attr, rel, image_list, key, master_ds_obj_rel_attr_imageid[key])"
   ]
  },
  {
   "cell_type": "code",
   "execution_count": 42,
   "metadata": {},
   "outputs": [
    {
     "name": "stdout",
     "output_type": "stream",
     "text": [
      "597\n",
      "597\n"
     ]
    }
   ],
   "source": [
    "print(len(master_ds_obj_rel_attr_imageid))\n",
    "print(len(inverted_obj_rel_attr_image))"
   ]
  },
  {
   "cell_type": "code",
   "execution_count": 43,
   "metadata": {},
   "outputs": [],
   "source": [
    "assert len(master_ds_obj_rel_attr_imageid) == len(inverted_obj_rel_attr_image)"
   ]
  },
  {
   "cell_type": "code",
   "execution_count": 44,
   "metadata": {},
   "outputs": [],
   "source": [
    "# now for inverted_index_object and inverted_index_attribute\n",
    "inverted_obj_image = {}\n",
    "for key in inverted_index_object:\n",
    "    obj = inv_object_vocab[inv_redundant_obj_dict[key]]\n",
    "    image_list = []\n",
    "    for item in inverted_index_object[key]:\n",
    "        image_list.append(inv_image_vocab[item])\n",
    "    inverted_obj_image[obj] = list(set(image_list))\n",
    "#     break\n",
    "# print(obj, list(set(image_list)), key, inverted_index_object[key])"
   ]
  },
  {
   "cell_type": "code",
   "execution_count": 45,
   "metadata": {},
   "outputs": [],
   "source": [
    "assert len(inverted_index_object) == len(inverted_obj_image)"
   ]
  },
  {
   "cell_type": "code",
   "execution_count": 46,
   "metadata": {},
   "outputs": [],
   "source": [
    "inverted_attr_image = {}\n",
    "for key in inverted_index_attribute:\n",
    "    attr = inv_attr_vocab[key]\n",
    "    for item in inverted_index_attribute[key]:\n",
    "        image_list.append(inv_image_vocab[item])\n",
    "    inverted_attr_image[attr] = list(set(image_list))\n",
    "#     break\n",
    "# print(attr, image_list, key, inverted_index_attribute[key])"
   ]
  },
  {
   "cell_type": "code",
   "execution_count": 47,
   "metadata": {},
   "outputs": [],
   "source": [
    "assert len(inverted_index_attribute) == len(inverted_attr_image)"
   ]
  },
  {
   "cell_type": "code",
   "execution_count": 48,
   "metadata": {},
   "outputs": [
    {
     "name": "stdout",
     "output_type": "stream",
     "text": [
      "[((473, 0, 229), [0])]\n",
      "[((473, 62, 0), [0])]\n",
      "[(473, [0, 25, 27])]\n",
      "[(0, [0, 4, 71, 41, 43, 75, 13, 77, 19, 51, 89, 90, 27, 92, 93])]\n"
     ]
    }
   ],
   "source": [
    "n_items = take(1, inverted_obj_rel_obj_image.items())\n",
    "print(n_items)\n",
    "n_items = take(1, inverted_obj_rel_attr_image.items())\n",
    "print(n_items)\n",
    "n_items = take(1, inverted_obj_image.items())\n",
    "print(n_items)\n",
    "n_items = take(1, inverted_attr_image.items())\n",
    "print(n_items)"
   ]
  },
  {
   "cell_type": "code",
   "execution_count": 49,
   "metadata": {},
   "outputs": [
    {
     "name": "stdout",
     "output_type": "stream",
     "text": [
      "maximum length:  7\n"
     ]
    }
   ],
   "source": [
    "maximum = 0\n",
    "for key in inverted_obj_rel_obj_image:\n",
    "    maximum = max(maximum, len(inverted_obj_rel_obj_image[key]))\n",
    "print(\"maximum length: \", maximum)"
   ]
  },
  {
   "cell_type": "code",
   "execution_count": 50,
   "metadata": {},
   "outputs": [
    {
     "name": "stdout",
     "output_type": "stream",
     "text": [
      "maximum length:  8\n"
     ]
    }
   ],
   "source": [
    "maximum = 0\n",
    "for key in inverted_obj_rel_attr_image:\n",
    "    maximum = max(maximum, len(inverted_obj_rel_attr_image[key]))\n",
    "print(\"maximum length: \", maximum)"
   ]
  },
  {
   "cell_type": "code",
   "execution_count": 51,
   "metadata": {},
   "outputs": [
    {
     "name": "stdout",
     "output_type": "stream",
     "text": [
      "maximum length:  21\n"
     ]
    }
   ],
   "source": [
    "maximum = 0\n",
    "for key in inverted_obj_image:\n",
    "    maximum = max(maximum, len(inverted_obj_image[key]))\n",
    "print(\"maximum length: \", maximum)"
   ]
  },
  {
   "cell_type": "code",
   "execution_count": 52,
   "metadata": {},
   "outputs": [
    {
     "name": "stdout",
     "output_type": "stream",
     "text": [
      "maximum length:  90\n"
     ]
    }
   ],
   "source": [
    "maximum = 0\n",
    "for key in inverted_attr_image:\n",
    "    maximum = max(maximum, len(inverted_attr_image[key]))\n",
    "print(\"maximum length: \", maximum)"
   ]
  },
  {
   "cell_type": "code",
   "execution_count": null,
   "metadata": {},
   "outputs": [],
   "source": []
  },
  {
   "cell_type": "code",
   "execution_count": 53,
   "metadata": {},
   "outputs": [
    {
     "name": "stdout",
     "output_type": "stream",
     "text": [
      "[(0, '681267')]\n"
     ]
    }
   ],
   "source": [
    "n_items = take(1, object_vocab.items())\n",
    "print(n_items)"
   ]
  },
  {
   "cell_type": "code",
   "execution_count": 54,
   "metadata": {},
   "outputs": [
    {
     "name": "stdout",
     "output_type": "stream",
     "text": [
      "[('681267', 'banana')]\n"
     ]
    }
   ],
   "source": [
    "n_items = take(1, redundant_obj_dict.items())\n",
    "print(n_items)"
   ]
  },
  {
   "cell_type": "code",
   "execution_count": null,
   "metadata": {},
   "outputs": [],
   "source": [
    "\n"
   ]
  },
  {
   "cell_type": "code",
   "execution_count": 55,
   "metadata": {},
   "outputs": [
    {
     "name": "stdout",
     "output_type": "stream",
     "text": [
      "[(0, 'banana')]\n"
     ]
    }
   ],
   "source": [
    "n_items = take(1, final_object_vocab.items())\n",
    "print(n_items)"
   ]
  },
  {
   "cell_type": "code",
   "execution_count": 56,
   "metadata": {},
   "outputs": [
    {
     "data": {
      "text/plain": [
       "(1546,)"
      ]
     },
     "execution_count": 56,
     "metadata": {},
     "output_type": "execute_result"
    }
   ],
   "source": [
    "objects_array=np.zeros(len(final_object_vocab))\n",
    "objects_array.shape"
   ]
  },
  {
   "cell_type": "code",
   "execution_count": 57,
   "metadata": {},
   "outputs": [],
   "source": [
    "idx = 0\n",
    "for key in final_object_vocab:\n",
    "    objects_array[idx] = key\n",
    "    idx += 1\n"
   ]
  },
  {
   "cell_type": "code",
   "execution_count": 58,
   "metadata": {},
   "outputs": [
    {
     "data": {
      "text/plain": [
       "(1546,)"
      ]
     },
     "execution_count": 58,
     "metadata": {},
     "output_type": "execute_result"
    }
   ],
   "source": [
    "objects_array.shape"
   ]
  },
  {
   "cell_type": "code",
   "execution_count": 59,
   "metadata": {},
   "outputs": [],
   "source": [
    "num_nodes = len(objects_array)"
   ]
  },
  {
   "cell_type": "code",
   "execution_count": 60,
   "metadata": {},
   "outputs": [],
   "source": [
    "adj_mat_obj_obj=np.zeros((num_nodes,num_nodes))\n",
    "#     for key in all_edges.keys() : \n",
    "#         node1=key[0]\n",
    "#         node2=key[1]\n",
    "#         for value in all_edges[key] : \n",
    "#             adj_mat[node1,node2,rel2ind[value]]=float(rel2ind[value])\n",
    "for key in inverted_obj_rel_obj_image:\n",
    "#     print(key, inverted_obj_rel_obj_image[key])\n",
    "#     break\n",
    "    obj1 = key[0]\n",
    "    obj2 = key[2]\n",
    "    rel = key[1]\n",
    "    adj_mat_obj_obj[obj1, obj2] = 1"
   ]
  },
  {
   "cell_type": "code",
   "execution_count": 61,
   "metadata": {},
   "outputs": [
    {
     "name": "stdout",
     "output_type": "stream",
     "text": [
      "(1546, 1546)\n"
     ]
    }
   ],
   "source": [
    "print(adj_mat_obj_obj.shape)"
   ]
  },
  {
   "cell_type": "code",
   "execution_count": 62,
   "metadata": {},
   "outputs": [
    {
     "name": "stdout",
     "output_type": "stream",
     "text": [
      "[(0, '2386621')]\n"
     ]
    }
   ],
   "source": [
    "n_items = take(1, image_vocab.items())\n",
    "print(n_items)"
   ]
  },
  {
   "cell_type": "code",
   "execution_count": 63,
   "metadata": {},
   "outputs": [
    {
     "name": "stdout",
     "output_type": "stream",
     "text": [
      "[(0, 'small')]\n"
     ]
    }
   ],
   "source": [
    "n_items = take(1, attr_vocab.items())\n",
    "print(n_items)"
   ]
  },
  {
   "cell_type": "code",
   "execution_count": 64,
   "metadata": {},
   "outputs": [
    {
     "data": {
      "text/plain": [
       "(162,)"
      ]
     },
     "execution_count": 64,
     "metadata": {},
     "output_type": "execute_result"
    }
   ],
   "source": [
    "# creating attribute_array\n",
    "attribute_array=np.zeros(len(attr_vocab))\n",
    "\n",
    "attribute_array.shape\n"
   ]
  },
  {
   "cell_type": "code",
   "execution_count": 65,
   "metadata": {},
   "outputs": [],
   "source": [
    "idx = 0\n",
    "for key in attr_vocab:\n",
    "    attribute_array[idx] = key\n",
    "    idx += 1"
   ]
  },
  {
   "cell_type": "code",
   "execution_count": 66,
   "metadata": {},
   "outputs": [
    {
     "data": {
      "text/plain": [
       "162"
      ]
     },
     "execution_count": 66,
     "metadata": {},
     "output_type": "execute_result"
    }
   ],
   "source": [
    "num_attrs = len(attr_vocab)\n",
    "num_attrs"
   ]
  },
  {
   "cell_type": "code",
   "execution_count": 67,
   "metadata": {},
   "outputs": [],
   "source": [
    "adj_mat_obj_attr=np.zeros((num_nodes,num_attrs))\n",
    "#     for key in all_edges.keys() : \n",
    "#         node1=key[0]\n",
    "#         node2=key[1]\n",
    "#         for value in all_edges[key] : \n",
    "#             adj_mat[node1,node2,rel2ind[value]]=float(rel2ind[value])\n",
    "for key in inverted_obj_rel_attr_image:\n",
    "#     print(key, inverted_obj_rel_obj_image[key])\n",
    "#     break\n",
    "    obj = key[0]\n",
    "    attr = key[2]\n",
    "    rel = key[1]\n",
    "    adj_mat_obj_attr[obj, attr] = 1"
   ]
  },
  {
   "cell_type": "code",
   "execution_count": 68,
   "metadata": {},
   "outputs": [
    {
     "data": {
      "text/plain": [
       "(1546, 162)"
      ]
     },
     "execution_count": 68,
     "metadata": {},
     "output_type": "execute_result"
    }
   ],
   "source": [
    "adj_mat_obj_attr.shape"
   ]
  },
  {
   "cell_type": "code",
   "execution_count": 69,
   "metadata": {},
   "outputs": [
    {
     "name": "stdout",
     "output_type": "stream",
     "text": [
      "[((473, 0, 229), [0])]\n",
      "[((473, 62, 0), [0])]\n",
      "[(473, [0, 25, 27])]\n",
      "[(0, [0, 4, 71, 41, 43, 75, 13, 77, 19, 51, 89, 90, 27, 92, 93])]\n"
     ]
    }
   ],
   "source": [
    "# again checking for major inverted indices :\n",
    "n_items = take(1, inverted_obj_rel_obj_image.items())\n",
    "print(n_items)\n",
    "n_items = take(1, inverted_obj_rel_attr_image.items())\n",
    "print(n_items)\n",
    "n_items = take(1, inverted_obj_image.items())\n",
    "print(n_items)\n",
    "n_items = take(1, inverted_attr_image.items())\n",
    "print(n_items)"
   ]
  },
  {
   "cell_type": "code",
   "execution_count": 70,
   "metadata": {},
   "outputs": [],
   "source": [
    "schema_graph={'object_nodes' : objects_array, \n",
    "              'attr_nodes' : attribute_array, \n",
    "              'object_object_edges' : adj_mat_obj_obj, \n",
    "              'object_attr_edges' : adj_mat_obj_attr}\n",
    "inverted_index={'object_nodes' : inverted_obj_image, \n",
    "                  'attr_nodes' : inverted_attr_image, \n",
    "                  'object_object_edges' : inverted_obj_rel_obj_image, \n",
    "                  'object_attr_edges' : inverted_obj_rel_attr_image}\n"
   ]
  },
  {
   "cell_type": "code",
   "execution_count": 71,
   "metadata": {},
   "outputs": [],
   "source": [
    "args = 'train'"
   ]
  },
  {
   "cell_type": "code",
   "execution_count": 72,
   "metadata": {},
   "outputs": [],
   "source": [
    "np.save('schema_graph_'+args+'.npy',schema_graph)\n",
    "np.save('inverted_index_'+args+'.npy',inverted_index)"
   ]
  },
  {
   "cell_type": "code",
   "execution_count": null,
   "metadata": {},
   "outputs": [],
   "source": []
  },
  {
   "cell_type": "code",
   "execution_count": 73,
   "metadata": {},
   "outputs": [
    {
     "name": "stdout",
     "output_type": "stream",
     "text": [
      "[('2386621', 0)]\n",
      "[('681267', 0)]\n",
      "[('small', 0)]\n",
      "[(0, 'banana'), (1, 'spots')]\n",
      "[('banana', 473), ('spots', 1084)]\n",
      "[('681267', 'banana')]\n"
     ]
    }
   ],
   "source": [
    "# useful vocabularies : \n",
    "# n_items = take(1, image_vocab.items())\n",
    "# print(n_items)\n",
    "# n_items = take(1, object_vocab.items())\n",
    "# print(n_items)\n",
    "# n_items = take(1, attr_vocab.items())\n",
    "# print(n_items)\n",
    "n_items = take(1, inv_image_vocab.items())\n",
    "print(n_items)\n",
    "n_items = take(1, inv_object_vocab.items())\n",
    "print(n_items)\n",
    "n_items = take(1, inv_attr_vocab.items())\n",
    "print(n_items)\n",
    "n_items = take(2, final_object_vocab.items())\n",
    "print(n_items)\n",
    "n_items = take(2, inv_final_object_vocab.items())\n",
    "print(n_items)\n",
    "n_items = take(1, redundant_obj_dict.items())\n",
    "print(n_items)"
   ]
  },
  {
   "cell_type": "code",
   "execution_count": 74,
   "metadata": {},
   "outputs": [
    {
     "name": "stdout",
     "output_type": "stream",
     "text": [
      "banana 473\n",
      "spots 1084\n",
      "bananas 2\n",
      "picnic 3\n",
      "straw 229\n"
     ]
    }
   ],
   "source": [
    "c = 1\n",
    "for key in inv_final_object_vocab:\n",
    "    print(key, inv_final_object_vocab[key])\n",
    "    if c == 5:\n",
    "        break\n",
    "    c += 1"
   ]
  },
  {
   "cell_type": "code",
   "execution_count": 75,
   "metadata": {},
   "outputs": [
    {
     "name": "stdout",
     "output_type": "stream",
     "text": [
      "1546\n",
      "1546\n",
      "1546\n",
      "1546\n",
      "409\n",
      "162\n",
      "162\n",
      "100\n",
      "100\n",
      "62\n"
     ]
    }
   ],
   "source": [
    "print(len(redundant_obj_dict))\n",
    "print(len(object_vocab))\n",
    "print(len(inv_object_vocab))\n",
    "print(len(final_object_vocab))\n",
    "print(len(inv_final_object_vocab))\n",
    "print(len(attr_vocab))\n",
    "print(len(inv_attr_vocab))\n",
    "print(len(image_vocab))\n",
    "print(len(inv_image_vocab))\n",
    "print(len(relation_vocab))\n"
   ]
  },
  {
   "cell_type": "code",
   "execution_count": 76,
   "metadata": {},
   "outputs": [
    {
     "ename": "NameError",
     "evalue": "name 'vocab' is not defined",
     "output_type": "error",
     "traceback": [
      "\u001b[0;31m---------------------------------------------------------------------------\u001b[0m",
      "\u001b[0;31mNameError\u001b[0m                                 Traceback (most recent call last)",
      "\u001b[0;32m<ipython-input-76-b44f14b556ab>\u001b[0m in \u001b[0;36m<module>\u001b[0;34m\u001b[0m\n\u001b[1;32m      1\u001b[0m \u001b[0;32mif\u001b[0m \u001b[0margs\u001b[0m\u001b[0;34m==\u001b[0m\u001b[0;34m'train'\u001b[0m \u001b[0;34m:\u001b[0m\u001b[0;34m\u001b[0m\u001b[0;34m\u001b[0m\u001b[0m\n\u001b[0;32m----> 2\u001b[0;31m     \u001b[0mnp\u001b[0m\u001b[0;34m.\u001b[0m\u001b[0msave\u001b[0m\u001b[0;34m(\u001b[0m\u001b[0;34m'vocab_word_rel.npy'\u001b[0m\u001b[0;34m,\u001b[0m\u001b[0mvocab\u001b[0m\u001b[0;34m)\u001b[0m\u001b[0;34m\u001b[0m\u001b[0;34m\u001b[0m\u001b[0m\n\u001b[0m",
      "\u001b[0;31mNameError\u001b[0m: name 'vocab' is not defined"
     ]
    }
   ],
   "source": [
    "if args=='train' : \n",
    "    np.save('vocab_word_rel.npy',vocab)"
   ]
  },
  {
   "cell_type": "code",
   "execution_count": null,
   "metadata": {},
   "outputs": [],
   "source": []
  },
  {
   "cell_type": "code",
   "execution_count": null,
   "metadata": {},
   "outputs": [],
   "source": []
  },
  {
   "cell_type": "code",
   "execution_count": null,
   "metadata": {},
   "outputs": [],
   "source": []
  },
  {
   "cell_type": "code",
   "execution_count": null,
   "metadata": {},
   "outputs": [],
   "source": []
  },
  {
   "cell_type": "code",
   "execution_count": null,
   "metadata": {},
   "outputs": [],
   "source": []
  },
  {
   "cell_type": "code",
   "execution_count": null,
   "metadata": {},
   "outputs": [],
   "source": []
  },
  {
   "cell_type": "code",
   "execution_count": null,
   "metadata": {},
   "outputs": [],
   "source": []
  },
  {
   "cell_type": "code",
   "execution_count": null,
   "metadata": {},
   "outputs": [],
   "source": []
  },
  {
   "cell_type": "code",
   "execution_count": null,
   "metadata": {},
   "outputs": [],
   "source": []
  },
  {
   "cell_type": "code",
   "execution_count": null,
   "metadata": {},
   "outputs": [],
   "source": []
  },
  {
   "cell_type": "code",
   "execution_count": null,
   "metadata": {},
   "outputs": [],
   "source": []
  },
  {
   "cell_type": "code",
   "execution_count": null,
   "metadata": {},
   "outputs": [],
   "source": []
  },
  {
   "cell_type": "code",
   "execution_count": null,
   "metadata": {},
   "outputs": [],
   "source": []
  },
  {
   "cell_type": "code",
   "execution_count": null,
   "metadata": {},
   "outputs": [],
   "source": []
  },
  {
   "cell_type": "code",
   "execution_count": null,
   "metadata": {},
   "outputs": [],
   "source": []
  },
  {
   "cell_type": "code",
   "execution_count": null,
   "metadata": {},
   "outputs": [],
   "source": []
  },
  {
   "cell_type": "code",
   "execution_count": null,
   "metadata": {},
   "outputs": [],
   "source": []
  },
  {
   "cell_type": "code",
   "execution_count": null,
   "metadata": {},
   "outputs": [],
   "source": []
  },
  {
   "cell_type": "code",
   "execution_count": null,
   "metadata": {},
   "outputs": [],
   "source": []
  },
  {
   "cell_type": "code",
   "execution_count": null,
   "metadata": {},
   "outputs": [],
   "source": []
  },
  {
   "cell_type": "code",
   "execution_count": null,
   "metadata": {},
   "outputs": [],
   "source": []
  },
  {
   "cell_type": "code",
   "execution_count": null,
   "metadata": {},
   "outputs": [],
   "source": []
  }
 ],
 "metadata": {
  "kernelspec": {
   "display_name": "Python 3",
   "language": "python",
   "name": "python3"
  },
  "language_info": {
   "codemirror_mode": {
    "name": "ipython",
    "version": 3
   },
   "file_extension": ".py",
   "mimetype": "text/x-python",
   "name": "python",
   "nbconvert_exporter": "python",
   "pygments_lexer": "ipython3",
   "version": "3.7.3"
  }
 },
 "nbformat": 4,
 "nbformat_minor": 2
}
